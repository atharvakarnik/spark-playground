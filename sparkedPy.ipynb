{
 "cells": [
  {
   "cell_type": "code",
   "execution_count": 1,
   "id": "5041d3a1-3f7d-4668-8301-ea4999479157",
   "metadata": {},
   "outputs": [],
   "source": [
    "import pyspark\n",
    "import pandas as pd\n",
    "import numpy as np"
   ]
  },
  {
   "cell_type": "code",
   "execution_count": 2,
   "id": "7f1c0915-14fa-41c3-9f0c-21bffc8bd803",
   "metadata": {},
   "outputs": [],
   "source": [
    "# Setting Spark environments\n",
    "\n",
    "import os\n",
    "\n",
    "os.environ['SPARK_HOME'] = '/Users/atharvakarnik/spark-3.5.1-bin-hadoop3'\n",
    "os.environ['PYSPARK_PYTHON'] = 'python'\n",
    "os.environ['PYSPARK_DRIVER_PYTHON'] = 'jupyter'\n",
    "os.environ['PYSPARK_DRIVER_PYTHON_OPTS'] = 'lab'"
   ]
  },
  {
   "cell_type": "code",
   "execution_count": 3,
   "id": "13aa1f9e-9bea-445d-94bf-4a2667daac59",
   "metadata": {},
   "outputs": [
    {
     "data": {
      "text/html": [
       "<div>\n",
       "<style scoped>\n",
       "    .dataframe tbody tr th:only-of-type {\n",
       "        vertical-align: middle;\n",
       "    }\n",
       "\n",
       "    .dataframe tbody tr th {\n",
       "        vertical-align: top;\n",
       "    }\n",
       "\n",
       "    .dataframe thead th {\n",
       "        text-align: right;\n",
       "    }\n",
       "</style>\n",
       "<table border=\"1\" class=\"dataframe\">\n",
       "  <thead>\n",
       "    <tr style=\"text-align: right;\">\n",
       "      <th></th>\n",
       "      <th>Temperature (°C)</th>\n",
       "      <th>Humidity (%)</th>\n",
       "    </tr>\n",
       "  </thead>\n",
       "  <tbody>\n",
       "    <tr>\n",
       "      <th>0</th>\n",
       "      <td>24.17</td>\n",
       "      <td>87.14</td>\n",
       "    </tr>\n",
       "    <tr>\n",
       "      <th>1</th>\n",
       "      <td>20.10</td>\n",
       "      <td>79.84</td>\n",
       "    </tr>\n",
       "    <tr>\n",
       "      <th>2</th>\n",
       "      <td>21.42</td>\n",
       "      <td>32.56</td>\n",
       "    </tr>\n",
       "    <tr>\n",
       "      <th>3</th>\n",
       "      <td>26.46</td>\n",
       "      <td>57.69</td>\n",
       "    </tr>\n",
       "    <tr>\n",
       "      <th>4</th>\n",
       "      <td>33.14</td>\n",
       "      <td>83.88</td>\n",
       "    </tr>\n",
       "    <tr>\n",
       "      <th>5</th>\n",
       "      <td>24.06</td>\n",
       "      <td>43.50</td>\n",
       "    </tr>\n",
       "    <tr>\n",
       "      <th>6</th>\n",
       "      <td>28.13</td>\n",
       "      <td>84.36</td>\n",
       "    </tr>\n",
       "    <tr>\n",
       "      <th>7</th>\n",
       "      <td>28.22</td>\n",
       "      <td>56.82</td>\n",
       "    </tr>\n",
       "    <tr>\n",
       "      <th>8</th>\n",
       "      <td>21.99</td>\n",
       "      <td>81.11</td>\n",
       "    </tr>\n",
       "    <tr>\n",
       "      <th>9</th>\n",
       "      <td>26.28</td>\n",
       "      <td>61.11</td>\n",
       "    </tr>\n",
       "  </tbody>\n",
       "</table>\n",
       "</div>"
      ],
      "text/plain": [
       "   Temperature (°C)  Humidity (%)\n",
       "0             24.17         87.14\n",
       "1             20.10         79.84\n",
       "2             21.42         32.56\n",
       "3             26.46         57.69\n",
       "4             33.14         83.88\n",
       "5             24.06         43.50\n",
       "6             28.13         84.36\n",
       "7             28.22         56.82\n",
       "8             21.99         81.11\n",
       "9             26.28         61.11"
      ]
     },
     "metadata": {},
     "output_type": "display_data"
    }
   ],
   "source": [
    "# Creating a literally (not truely though) random dataframe\n",
    "\n",
    "rows = np.random.randint(10, 13)\n",
    "data = {\n",
    "    \"Temperature (°C)\": np.random.uniform(20, 35, size=rows).round(2),\n",
    "    \"Humidity (%)\": np.random.uniform(30, 90, size=rows).round(2)\n",
    "}\n",
    "\n",
    "df = pd.DataFrame(data)\n",
    "\n",
    "display(df)"
   ]
  },
  {
   "cell_type": "code",
   "execution_count": 4,
   "id": "44eae22c-6d99-4027-b539-0debb558d980",
   "metadata": {},
   "outputs": [
    {
     "name": "stderr",
     "output_type": "stream",
     "text": [
      "24/08/11 02:19:19 WARN Utils: Your hostname, Atharvas-MacBook-Air.local resolves to a loopback address: 127.0.0.1; using 10.184.68.157 instead (on interface en0)\n",
      "24/08/11 02:19:19 WARN Utils: Set SPARK_LOCAL_IP if you need to bind to another address\n",
      "Setting default log level to \"WARN\".\n",
      "To adjust logging level use sc.setLogLevel(newLevel). For SparkR, use setLogLevel(newLevel).\n",
      "24/08/11 02:19:19 WARN NativeCodeLoader: Unable to load native-hadoop library for your platform... using builtin-java classes where applicable\n"
     ]
    }
   ],
   "source": [
    "from pyspark.sql import SparkSession\n",
    "\n",
    "spark = SparkSession.builder.appName('RandomApp').getOrCreate()"
   ]
  },
  {
   "cell_type": "code",
   "execution_count": 5,
   "id": "31b7cb45-9b9e-4a96-b169-f87c8bccaedc",
   "metadata": {},
   "outputs": [
    {
     "data": {
      "text/html": [
       "\n",
       "            <div>\n",
       "                <p><b>SparkSession - in-memory</b></p>\n",
       "                \n",
       "        <div>\n",
       "            <p><b>SparkContext</b></p>\n",
       "\n",
       "            <p><a href=\"http://10.184.68.157:4040\">Spark UI</a></p>\n",
       "\n",
       "            <dl>\n",
       "              <dt>Version</dt>\n",
       "                <dd><code>v3.5.1</code></dd>\n",
       "              <dt>Master</dt>\n",
       "                <dd><code>local[*]</code></dd>\n",
       "              <dt>AppName</dt>\n",
       "                <dd><code>RandomApp</code></dd>\n",
       "            </dl>\n",
       "        </div>\n",
       "        \n",
       "            </div>\n",
       "        "
      ],
      "text/plain": [
       "<pyspark.sql.session.SparkSession at 0x107ee5990>"
      ]
     },
     "execution_count": 5,
     "metadata": {},
     "output_type": "execute_result"
    }
   ],
   "source": [
    "spark"
   ]
  },
  {
   "cell_type": "code",
   "execution_count": 6,
   "id": "7d85b7e0-bf0a-4941-90e9-6de8daf12240",
   "metadata": {},
   "outputs": [],
   "source": [
    "spark_df = spark.createDataFrame(df)"
   ]
  },
  {
   "cell_type": "code",
   "execution_count": 7,
   "id": "566983f5-ec2e-4f41-8c79-6c42a03bf6f0",
   "metadata": {
    "scrolled": true
   },
   "outputs": [
    {
     "name": "stderr",
     "output_type": "stream",
     "text": [
      "                                                                                \r"
     ]
    },
    {
     "name": "stdout",
     "output_type": "stream",
     "text": [
      "+----------------+------------+\n",
      "|Temperature (°C)|Humidity (%)|\n",
      "+----------------+------------+\n",
      "|           24.17|       87.14|\n",
      "|            20.1|       79.84|\n",
      "|           21.42|       32.56|\n",
      "|           26.46|       57.69|\n",
      "|           33.14|       83.88|\n",
      "|           24.06|        43.5|\n",
      "|           28.13|       84.36|\n",
      "|           28.22|       56.82|\n",
      "|           21.99|       81.11|\n",
      "|           26.28|       61.11|\n",
      "+----------------+------------+\n",
      "\n"
     ]
    },
    {
     "name": "stderr",
     "output_type": "stream",
     "text": [
      "24/08/11 02:19:30 WARN GarbageCollectionMetrics: To enable non-built-in garbage collector(s) List(G1 Concurrent GC), users should configure it(them) to spark.eventLog.gcMetrics.youngGenerationGarbageCollectors or spark.eventLog.gcMetrics.oldGenerationGarbageCollectors\n"
     ]
    }
   ],
   "source": [
    "spark_df.show()"
   ]
  },
  {
   "cell_type": "code",
   "execution_count": 15,
   "id": "38c15a47-0f46-4824-86ca-ffd6fd95cfff",
   "metadata": {},
   "outputs": [
    {
     "name": "stdout",
     "output_type": "stream",
     "text": [
      "root\n",
      " |-- Temperature (°C): double (nullable = true)\n",
      " |-- Humidity (%): double (nullable = true)\n",
      "\n"
     ]
    }
   ],
   "source": [
    "spark_df.printSchema()"
   ]
  },
  {
   "cell_type": "code",
   "execution_count": 16,
   "id": "aee76191-c9e1-4ba5-862e-9659c440775e",
   "metadata": {},
   "outputs": [
    {
     "name": "stdout",
     "output_type": "stream",
     "text": [
      "+----------------+\n",
      "|Temperature (°C)|\n",
      "+----------------+\n",
      "|           24.17|\n",
      "|            20.1|\n",
      "|           21.42|\n",
      "|           26.46|\n",
      "|           33.14|\n",
      "|           24.06|\n",
      "|           28.13|\n",
      "|           28.22|\n",
      "|           21.99|\n",
      "|           26.28|\n",
      "+----------------+\n",
      "\n"
     ]
    }
   ],
   "source": [
    "spark_df.select(['Temperature (°C)']).show()"
   ]
  },
  {
   "cell_type": "code",
   "execution_count": null,
   "id": "6f0e6c51-35ea-4357-9955-07b90f4b2c9c",
   "metadata": {},
   "outputs": [],
   "source": []
  },
  {
   "cell_type": "code",
   "execution_count": null,
   "id": "33e5a8d2-8f03-4562-a43a-53b260d2ac08",
   "metadata": {},
   "outputs": [],
   "source": []
  },
  {
   "cell_type": "code",
   "execution_count": null,
   "id": "8f5de55e-9f15-4fce-b020-6e836fc1cb27",
   "metadata": {},
   "outputs": [],
   "source": []
  },
  {
   "cell_type": "code",
   "execution_count": 17,
   "id": "82e49d44-4b56-47a1-a3f6-550c4261f567",
   "metadata": {},
   "outputs": [
    {
     "name": "stdin",
     "output_type": "stream",
     "text": [
      "Hold up! Do you really want to end Spark sessio? 'Y'/'N' Y\n"
     ]
    },
    {
     "name": "stdout",
     "output_type": "stream",
     "text": [
      "Alright, ending Spark Session :'(\n"
     ]
    }
   ],
   "source": [
    "# To end the session, let's be kind on our kernel :)\n",
    "\n",
    "just_confirming = input(\"Hold up! Do you really want to end Spark sessio? 'Y'/'N'\")\n",
    "if just_confirming == 'Y': \n",
    "    print(\"Alright, ending Spark Session :'(\")\n",
    "    spark.stop()\n",
    "elif just_confirming == 'N': print(\"That was a close call :)\")\n",
    "else: print(\"You may want to read code before executig ~_~\")"
   ]
  },
  {
   "cell_type": "code",
   "execution_count": null,
   "id": "7a9b83ff-b797-4061-b604-0c2e0efb1f01",
   "metadata": {},
   "outputs": [],
   "source": []
  }
 ],
 "metadata": {
  "kernelspec": {
   "display_name": "Python 3 (ipykernel)",
   "language": "python",
   "name": "python3"
  },
  "language_info": {
   "codemirror_mode": {
    "name": "ipython",
    "version": 3
   },
   "file_extension": ".py",
   "mimetype": "text/x-python",
   "name": "python",
   "nbconvert_exporter": "python",
   "pygments_lexer": "ipython3",
   "version": "3.11.9"
  }
 },
 "nbformat": 4,
 "nbformat_minor": 5
}
